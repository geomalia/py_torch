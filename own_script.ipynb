{
 "cells": [
  {
   "cell_type": "code",
   "execution_count": null,
   "id": "4e52634f-a933-4b88-b41c-1aa245a00cb9",
   "metadata": {},
   "outputs": [],
   "source": [
    "image_path = Path(\"/home/dika/Deep_learning/Torch/Deep_Learning_Unet_Torch/training/Test/image/image_*.tif\")\n",
    "mask_path = Path(\"/home/dika/Deep_learning/Torch/Deep_Learning_Unet_Torch/training/Test/mask/mask_000.tif\")"
   ]
  },
  {
   "cell_type": "code",
   "execution_count": null,
   "id": "423931ce-0f67-4d6c-8417-b73be1070bc4",
   "metadata": {},
   "outputs": [],
   "source": []
  },
  {
   "cell_type": "code",
   "execution_count": null,
   "id": "97239a30-09b8-4ee3-b536-8ed7e29af9d6",
   "metadata": {},
   "outputs": [],
   "source": []
  }
 ],
 "metadata": {
  "kernelspec": {
   "display_name": "Python (PyTorch)",
   "language": "python",
   "name": "envi_torch"
  },
  "language_info": {
   "codemirror_mode": {
    "name": "ipython",
    "version": 3
   },
   "file_extension": ".py",
   "mimetype": "text/x-python",
   "name": "python",
   "nbconvert_exporter": "python",
   "pygments_lexer": "ipython3",
   "version": "3.12.3"
  }
 },
 "nbformat": 4,
 "nbformat_minor": 5
}
